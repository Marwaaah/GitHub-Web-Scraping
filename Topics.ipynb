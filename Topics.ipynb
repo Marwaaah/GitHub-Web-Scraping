{
 "cells": [
  {
   "cell_type": "markdown",
   "id": "3c607ff5",
   "metadata": {},
   "source": [
    "## Scraping Repositories for Topics on GitHub"
   ]
  },
  {
   "cell_type": "markdown",
   "id": "ca65fc6c",
   "metadata": {},
   "source": [
    "### Here are the steps we'll follow:\n",
    "\n",
    "We're going to scrape https://github.com/topics\n",
    "\n",
    "We'll get a list of topics. For each topic, we'll get topic title, topic page URL and topic description\n"
   ]
  },
  {
   "cell_type": "markdown",
   "id": "9a354675",
   "metadata": {},
   "source": [
    "### import modules"
   ]
  },
  {
   "cell_type": "code",
   "execution_count": null,
   "id": "c273363f",
   "metadata": {},
   "outputs": [],
   "source": [
    "import requests\n",
    "from bs4 import BeautifulSoup\n",
    "import csv\n",
    "from itertools import zip_longest"
   ]
  },
  {
   "cell_type": "code",
   "execution_count": null,
   "id": "1af337d2",
   "metadata": {},
   "outputs": [],
   "source": [
    "Topic_title = []\n",
    "Topic_description = []\n",
    "Topic_url = []\n",
    "Topic_urll = []\n",
    "base_url = 'https://github.com'"
   ]
  },
  {
   "cell_type": "markdown",
   "id": "71e4eab5",
   "metadata": {},
   "source": [
    "#### We'll get a list of topics. For each topic, we'll get topic title, topic page URL and topic description"
   ]
  },
  {
   "cell_type": "markdown",
   "id": "bcd9ceae",
   "metadata": {},
   "source": [
    "use requests to fetch the url"
   ]
  },
  {
   "cell_type": "code",
   "execution_count": null,
   "id": "8c08de14",
   "metadata": {},
   "outputs": [],
   "source": [
    "topics_url = 'https://github.com/topics'\n",
    "response = requests.get(topics_url)"
   ]
  },
  {
   "cell_type": "markdown",
   "id": "a2b54788",
   "metadata": {},
   "source": [
    "save page content/markup"
   ]
  },
  {
   "cell_type": "code",
   "execution_count": null,
   "id": "23c79095",
   "metadata": {},
   "outputs": [],
   "source": [
    "src = response.content"
   ]
  },
  {
   "cell_type": "markdown",
   "id": "1aa120f9",
   "metadata": {},
   "source": [
    "create soup object to parse content"
   ]
  },
  {
   "cell_type": "code",
   "execution_count": null,
   "id": "449cdc8c",
   "metadata": {},
   "outputs": [],
   "source": [
    "soup = BeautifulSoup(src, \"lxml\")"
   ]
  },
  {
   "cell_type": "markdown",
   "id": "440c512e",
   "metadata": {},
   "source": [
    "extract information"
   ]
  },
  {
   "cell_type": "code",
   "execution_count": null,
   "id": "9ba9afcd",
   "metadata": {},
   "outputs": [],
   "source": [
    "topic_name = soup.find_all('p',class_ = 'f3 lh-condensed mb-0 mt-1 Link--primary')\n",
    "topic_des = soup.find_all('p', class_ = 'f5 color-fg-muted mb-0 mt-1')\n",
    "topic_url = soup.find_all('a', class_ = 'no-underline flex-1 d-flex flex-column')\n",
    "\n",
    "for tag in topic_url:\n",
    "        Topic_url.append(base_url + tag['href'])\n",
    "\n",
    "for i in range(len(topic_name)):\n",
    "    Topic_title.append(topic_name[i].get_text())\n",
    "    Topic_description.append(topic_des[i].get_text())\n",
    "    Topic_urll.append(Topic_url[i])"
   ]
  },
  {
   "cell_type": "markdown",
   "id": "1c47c283",
   "metadata": {},
   "source": [
    "Save it to csv"
   ]
  },
  {
   "cell_type": "code",
   "execution_count": null,
   "id": "f5713a7e",
   "metadata": {},
   "outputs": [],
   "source": [
    "list = [Topic_title,Topic_description,Topic_urll]\n",
    "exported = zip_longest(*list)\n",
    "\n",
    "with open(\"/Users/Horus/Projects/github.csv\", \"w\", encoding=\"utf-8\") as myfile:\n",
    "    wr = csv.writer(myfile)\n",
    "    wr.writerow([\"Topic_title\",\"Topic_description\",\"Topic_url\"])\n",
    "    wr.writerows(exported)\n"
   ]
  }
 ],
 "metadata": {
  "kernelspec": {
   "display_name": "Python 3 (ipykernel)",
   "language": "python",
   "name": "python3"
  },
  "language_info": {
   "codemirror_mode": {
    "name": "ipython",
    "version": 3
   },
   "file_extension": ".py",
   "mimetype": "text/x-python",
   "name": "python",
   "nbconvert_exporter": "python",
   "pygments_lexer": "ipython3",
   "version": "3.11.3"
  }
 },
 "nbformat": 4,
 "nbformat_minor": 5
}

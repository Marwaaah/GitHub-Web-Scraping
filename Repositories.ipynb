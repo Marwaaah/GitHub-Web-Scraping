{
 "cells": [
  {
   "cell_type": "markdown",
   "id": "64b87d2e",
   "metadata": {},
   "source": [
    "## Scraping Repositories for Topics on GitHub"
   ]
  },
  {
   "cell_type": "markdown",
   "id": "a17c2bbc",
   "metadata": {},
   "source": [
    "Here are the steps we'll follow:\n",
    "\n",
    "We're going to scrape Repositories for Topics on GitHub\n",
    "\n",
    "For each topic, we'll get any repository in the topic from the topic page\n",
    "\n",
    "For each repository, we'll grab the repo name, username, stars\n",
    "\n",
    "For each topic we'll create a CSV file in the following format:\n",
    "\n",
    "Repo Name,Username,Stars"
   ]
  },
  {
   "cell_type": "markdown",
   "id": "51ce99b1",
   "metadata": {},
   "source": [
    "### import modules"
   ]
  },
  {
   "cell_type": "code",
   "execution_count": 3,
   "id": "847c591b",
   "metadata": {},
   "outputs": [],
   "source": [
    "import requests\n",
    "from bs4 import BeautifulSoup\n",
    "import csv\n",
    "from itertools import zip_longest\n",
    "import pandas as pd"
   ]
  },
  {
   "cell_type": "code",
   "execution_count": null,
   "id": "1ad7325b",
   "metadata": {},
   "outputs": [],
   "source": [
    "Repo_Name = []\n",
    "Username = []\n",
    "Stars = []\n"
   ]
  },
  {
   "cell_type": "markdown",
   "id": "fd306d8c",
   "metadata": {},
   "source": [
    "### For each topic, we'll get any repository in the topic from the topic page"
   ]
  },
  {
   "cell_type": "code",
   "execution_count": null,
   "id": "5b52407a",
   "metadata": {},
   "outputs": [],
   "source": [
    "def get_topic(url):\n",
    "  url = f'{url}'\n",
    "  response = requests.get(url)\n",
    "  src = response.content\n",
    "  soup = BeautifulSoup(src, \"lxml\")\n",
    "\n",
    "  repo_name = soup.find_all('a', class_ = 'Link text-bold wb-break-word')\n",
    "  stars = soup.find_all('span', class_ = 'Counter js-social-count')\n",
    "  username = soup.find_all('a', class_= 'Link')\n",
    "  for i in range(len(stars)):\n",
    "      Repo_Name.append(repo_name[i].get_text().strip())\n",
    "      Stars.append(stars[i].get_text())\n",
    "      Username.append(username[i].get_text().strip())\n",
    "  dict_Topics = {'Repo_Name': Repo_Name, 'Username': Username, 'Stars': Stars}\n",
    "  df_Topics = pd.DataFrame(dict_Topics)\n",
    "  return df_Topics\n",
    "  \n",
    "Return = get_topic('https://github.com/topics/amphp') \n",
    "Return.to_csv(\"Top 3 Repositoryy.csv\", index=False)\n"
   ]
  }
 ],
 "metadata": {
  "kernelspec": {
   "display_name": "Python 3 (ipykernel)",
   "language": "python",
   "name": "python3"
  },
  "language_info": {
   "codemirror_mode": {
    "name": "ipython",
    "version": 3
   },
   "file_extension": ".py",
   "mimetype": "text/x-python",
   "name": "python",
   "nbconvert_exporter": "python",
   "pygments_lexer": "ipython3",
   "version": "3.11.3"
  }
 },
 "nbformat": 4,
 "nbformat_minor": 5
}
